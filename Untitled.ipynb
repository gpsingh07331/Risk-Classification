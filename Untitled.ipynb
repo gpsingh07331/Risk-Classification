{
 "cells": [
  {
   "cell_type": "markdown",
   "id": "d9b482b3",
   "metadata": {},
   "source": [
    "### Risk classification using Supervised classification models.\n",
    "In this project we have used various classification models on a imbalanced data set for assessing risk for granting loans.\n",
    "The project has been split in two notebooks.\n",
    "- *Credit_Risk_Resampling.ipynb*\n",
    "- *Credit_Risk_Ensemble.ipynb*\n",
    "\n",
    "**Credit_Risk_Resampling**, in this notebook we have analyzed the lending_data.csv data. We have used simple logistic regression and then considering that the data is imbalanced for the target variable, we have used oversampling, undersampling and combined sampling and then applied logistic regression.\n",
    "Some of the sampling methods applied are -\n",
    "\n",
    "- Naive Random Oversampler and SMOTE algorithms\n",
    "- Cluster Centroids algorithm undersmpling\n",
    "- Over- and undersample using a combination SMOTEENN algorithm\n",
    "\n",
    "We use balanced_accuracy_score, confusion_matrix and classification_report to asses the quality of the models and in the end compare and answer few questions.\n",
    "\n",
    "---\n",
    "\n",
    "![alt text](https://github.com/RutgersCodingBootcamp/RUT-VIRT-FIN-PT-11-2021-U-C/raw/main/Homework/11-Machine-Learning/Instructions/Images/credit-risk.jpg)\n",
    "\n",
    "---\n",
    "\n",
    "We use Pandas, hvplot and pandas_profiler to do exploratory data analysis.\n",
    "\n",
    "For categorical values and the target value, we did encoding -\n",
    "\n",
    "<img src=\"./IMG/sample_encoding.PNG\" width=\"800\" height=\"400\">\n",
    "\n",
    "Output of summary of profile after EDA and transformation\n",
    "\n",
    "<img src=\"./IMG/sample_profile1.PNG\" width=\"800\" height=\"400\">\n",
    "\n",
    "**Results**\n",
    "\n",
    "*Which model had the best balanced accuracy score?*\n",
    "Too close to call but SMOTEENN is the best.\n",
    "\n",
    "<img src=\"./IMG/>sample_ba.PNG\" width=\"800\" height=\"400\">\n",
    "     \n",
    "*Which model had the best recall score?*\n",
    "LogisticRegression is the best.\n",
    "     \n",
    "<img src=\"./IMG/>sample_recall.PNG\" width=\"800\" height=\"400\">\n",
    "\n",
    "*Which model had the best geometric score?*\n",
    "Too close to call but SMOTEENN is the best.\n",
    "\n",
    "<img src=\"./IMG/>sample_gm.PNG\" width=\"800\" height=\"400\">"
   ]
  }
 ],
 "metadata": {
  "kernelspec": {
   "display_name": "Python 3",
   "language": "python",
   "name": "python3"
  },
  "language_info": {
   "codemirror_mode": {
    "name": "ipython",
    "version": 3
   },
   "file_extension": ".py",
   "mimetype": "text/x-python",
   "name": "python",
   "nbconvert_exporter": "python",
   "pygments_lexer": "ipython3",
   "version": "3.7.11"
  }
 },
 "nbformat": 4,
 "nbformat_minor": 5
}
